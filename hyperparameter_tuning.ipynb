{
 "cells": [
  {
   "cell_type": "markdown",
   "id": "3ade3b83",
   "metadata": {},
   "source": [
    "## Raisins hyperparameter tuning project\n",
    "\n",
    "Models and their hyperparameters that I will be tuning are:\n",
    "* K-nearest neighbors: n_neighbors\n",
    "* Support Vector Machines: C "
   ]
  },
  {
   "cell_type": "code",
   "execution_count": 1,
   "id": "7e39201d",
   "metadata": {},
   "outputs": [
    {
     "data": {
      "text/html": [
       "<div>\n",
       "<style scoped>\n",
       "    .dataframe tbody tr th:only-of-type {\n",
       "        vertical-align: middle;\n",
       "    }\n",
       "\n",
       "    .dataframe tbody tr th {\n",
       "        vertical-align: top;\n",
       "    }\n",
       "\n",
       "    .dataframe thead th {\n",
       "        text-align: right;\n",
       "    }\n",
       "</style>\n",
       "<table border=\"1\" class=\"dataframe\">\n",
       "  <thead>\n",
       "    <tr style=\"text-align: right;\">\n",
       "      <th></th>\n",
       "      <th>Area</th>\n",
       "      <th>MajorAxisLength</th>\n",
       "      <th>MinorAxisLength</th>\n",
       "      <th>Eccentricity</th>\n",
       "      <th>ConvexArea</th>\n",
       "      <th>Extent</th>\n",
       "      <th>Perimeter</th>\n",
       "      <th>Class</th>\n",
       "    </tr>\n",
       "  </thead>\n",
       "  <tbody>\n",
       "    <tr>\n",
       "      <th>0</th>\n",
       "      <td>87524</td>\n",
       "      <td>442.246011</td>\n",
       "      <td>253.291155</td>\n",
       "      <td>0.819738</td>\n",
       "      <td>90546</td>\n",
       "      <td>0.758651</td>\n",
       "      <td>1184.040</td>\n",
       "      <td>0</td>\n",
       "    </tr>\n",
       "    <tr>\n",
       "      <th>1</th>\n",
       "      <td>75166</td>\n",
       "      <td>406.690687</td>\n",
       "      <td>243.032436</td>\n",
       "      <td>0.801805</td>\n",
       "      <td>78789</td>\n",
       "      <td>0.684130</td>\n",
       "      <td>1121.786</td>\n",
       "      <td>0</td>\n",
       "    </tr>\n",
       "    <tr>\n",
       "      <th>2</th>\n",
       "      <td>90856</td>\n",
       "      <td>442.267048</td>\n",
       "      <td>266.328318</td>\n",
       "      <td>0.798354</td>\n",
       "      <td>93717</td>\n",
       "      <td>0.637613</td>\n",
       "      <td>1208.575</td>\n",
       "      <td>0</td>\n",
       "    </tr>\n",
       "    <tr>\n",
       "      <th>3</th>\n",
       "      <td>45928</td>\n",
       "      <td>286.540559</td>\n",
       "      <td>208.760042</td>\n",
       "      <td>0.684989</td>\n",
       "      <td>47336</td>\n",
       "      <td>0.699599</td>\n",
       "      <td>844.162</td>\n",
       "      <td>0</td>\n",
       "    </tr>\n",
       "    <tr>\n",
       "      <th>4</th>\n",
       "      <td>79408</td>\n",
       "      <td>352.190770</td>\n",
       "      <td>290.827533</td>\n",
       "      <td>0.564011</td>\n",
       "      <td>81463</td>\n",
       "      <td>0.792772</td>\n",
       "      <td>1073.251</td>\n",
       "      <td>0</td>\n",
       "    </tr>\n",
       "  </tbody>\n",
       "</table>\n",
       "</div>"
      ],
      "text/plain": [
       "    Area  MajorAxisLength  MinorAxisLength  Eccentricity  ConvexArea  \\\n",
       "0  87524       442.246011       253.291155      0.819738       90546   \n",
       "1  75166       406.690687       243.032436      0.801805       78789   \n",
       "2  90856       442.267048       266.328318      0.798354       93717   \n",
       "3  45928       286.540559       208.760042      0.684989       47336   \n",
       "4  79408       352.190770       290.827533      0.564011       81463   \n",
       "\n",
       "     Extent  Perimeter  Class  \n",
       "0  0.758651   1184.040      0  \n",
       "1  0.684130   1121.786      0  \n",
       "2  0.637613   1208.575      0  \n",
       "3  0.699599    844.162      0  \n",
       "4  0.792772   1073.251      0  "
      ]
     },
     "execution_count": 1,
     "metadata": {},
     "output_type": "execute_result"
    }
   ],
   "source": [
    "# 1. Setup\n",
    "import pandas as pd\n",
    "from sklearn.model_selection import train_test_split\n",
    "from sklearn.tree import DecisionTreeClassifier\n",
    "from sklearn.linear_model import LogisticRegression\n",
    "from sklearn.model_selection import GridSearchCV\n",
    "from sklearn.model_selection import RandomizedSearchCV\n",
    "\n",
    "raisins = pd.read_csv('Raisin_Dataset.csv')\n",
    "raisins.head()"
   ]
  },
  {
   "cell_type": "markdown",
   "id": "cd1c2991",
   "metadata": {},
   "source": [
    "Predictor and target variable creation:"
   ]
  },
  {
   "cell_type": "code",
   "execution_count": 17,
   "id": "62054ba3",
   "metadata": {},
   "outputs": [],
   "source": [
    "X = raisins.drop([\"Class\"], axis=\"columns\")\n",
    "y = raisins[\"Class\"]"
   ]
  },
  {
   "cell_type": "markdown",
   "id": "c28cac0c",
   "metadata": {},
   "source": [
    "Train test split and scale the data:"
   ]
  },
  {
   "cell_type": "code",
   "execution_count": 50,
   "id": "b81ca514",
   "metadata": {},
   "outputs": [],
   "source": [
    "X_train, X_test, y_train, y_test = train_test_split(X,y, random_state = 19)\n",
    "\n",
    "from sklearn.preprocessing import StandardScaler\n",
    "\n",
    "scaler = StandardScaler()\n",
    "X_train = scaler.fit_transform(X_train)\n",
    "X_test = scaler.transform(X_test)"
   ]
  },
  {
   "cell_type": "markdown",
   "id": "9ca693c8",
   "metadata": {},
   "source": [
    "### Let's start with the K-nearest neighbors classifier\n",
    "\n",
    "The hyperparameter tuning method I will be using is the elbow method."
   ]
  },
  {
   "cell_type": "code",
   "execution_count": 52,
   "id": "97da8feb",
   "metadata": {},
   "outputs": [
    {
     "data": {
      "image/png": "[encoded data removed]",
      "text/plain": [
       "<Figure size 432x288 with 1 Axes>"
      ]
     },
     "metadata": {
      "needs_background": "light"
     },
     "output_type": "display_data"
    },
    {
     "name": "stdout",
     "output_type": "stream",
     "text": [
      "Accuracy with 7 neighbors:  0.8592592592592592\n"
     ]
    }
   ],
   "source": [
    "from sklearn.neighbors import KNeighborsClassifier\n",
    "import numpy as np\n",
    "from matplotlib import pyplot as plt\n",
    "from sklearn.model_selection import cross_val_score\n",
    "\n",
    "mean_scores = []\n",
    "\n",
    "for n in n_grid:\n",
    "    clf = KNeighborsClassifier(n_neighbors=n)\n",
    "\n",
    "    scores = cross_val_score(clf, X_train, y_train, cv=5)\n",
    "    mean_scores.append(np.mean(scores))\n",
    "\n",
    "# Plotting the results\n",
    "plt.plot(n_grid, mean_scores, marker='o')\n",
    "plt.xlabel('Number of Neighbors')\n",
    "plt.ylabel('Cross-Validated Accuracy')\n",
    "plt.title('KNN Cross-Validated Accuracy for Different Numbers of Neighbors')\n",
    "plt.show()\n",
    "\n",
    "print(\"Accuracy with 7 neighbors: \", mean_scores[6])"
   ]
  },
  {
   "cell_type": "markdown",
   "id": "165a9b62",
   "metadata": {},
   "source": [
    "The steepest increase in accuracy is until 7 neighbors, then it slows down. The best chosen model is **` KNeighborsClassifier(n_neighbors = 7)`** with an **`accuracy of 0.8592592592592592`**. "
   ]
  },
  {
   "cell_type": "markdown",
   "id": "e59296a1",
   "metadata": {},
   "source": [
    "### Support Vector Machines\n",
    "\n",
    "The hyperparameter tuning method I will be using is the random search method with `RandomizedSearchCV`.\n",
    "\n",
    "First, I will check the accuracy of the default C = 1."
   ]
  },
  {
   "cell_type": "code",
   "execution_count": 53,
   "id": "1b81f8a7",
   "metadata": {},
   "outputs": [
    {
     "name": "stdout",
     "output_type": "stream",
     "text": [
      "Default score of the SVC:  0.8488888888888889\n"
     ]
    }
   ],
   "source": [
    "from sklearn.svm import SVC\n",
    "clf2_default = SVC()\n",
    "clf2_default.fit(X_train, y_train)\n",
    "\n",
    "print(\"Default score of the SVC: \", clf2_default.score(X_test, y_test))\n"
   ]
  },
  {
   "cell_type": "code",
   "execution_count": 54,
   "id": "635b4f7f",
   "metadata": {},
   "outputs": [
    {
     "data": {
      "text/plain": [
       "RandomizedSearchCV(estimator=SVC(), n_iter=30,\n",
       "                   param_distributions={'C': <scipy.stats._distn_infrastructure.rv_frozen object at 0x7fba2a3cf850>})"
      ]
     },
     "execution_count": 54,
     "metadata": {},
     "output_type": "execute_result"
    }
   ],
   "source": [
    "from sklearn.svm import SVC\n",
    "from scipy.stats import uniform \n",
    "clf2 = SVC()\n",
    "tuning_C = {\"C\": uniform(loc = 0.0001, scale = 10)}\n",
    "\n",
    "rs = RandomizedSearchCV(clf2, tuning_C, n_iter=30)\n",
    "rs.fit(X_train, y_train)"
   ]
  },
  {
   "cell_type": "markdown",
   "id": "7457f9a8",
   "metadata": {},
   "source": [
    "Now plot the accuracies:"
   ]
  },
  {
   "cell_type": "code",
   "execution_count": 55,
   "id": "879028ff",
   "metadata": {},
   "outputs": [
    {
     "data": {
      "image/png": "[encoded data removed]",
      "text/plain": [
       "<Figure size 432x288 with 1 Axes>"
      ]
     },
     "metadata": {
      "needs_background": "light"
     },
     "output_type": "display_data"
    },
    {
     "name": "stdout",
     "output_type": "stream",
     "text": [
      "The best C parameter fromm the search:  0.07308299774200268\n",
      "Best model:  SVC(C=0.07308299774200268) \n",
      "Best score:  0.8681481481481482\n"
     ]
    }
   ],
   "source": [
    "hypers = pd.DataFrame(rs.cv_results_[\"params\"])\n",
    "scores = pd.DataFrame(rs.cv_results_[\"mean_test_score\"], columns = [\"accuracy\"])\n",
    "\n",
    "df = pd.concat([hypers, scores], axis = 1)\n",
    "df = df.sort_values(\"accuracy\", ascending = False)\n",
    "\n",
    "plt.scatter(df[\"C\"], df[\"accuracy\"])\n",
    "plt.title(\"Accuracy in relation to C value\")\n",
    "plt.show()\n",
    "print(\"The best C parameter fromm the search: \", rs.best_params_[\"C\"])\n",
    "print(\"Best model: \", rs.best_estimator_, \"\\nBest score: \", rs.best_score_)"
   ]
  },
  {
   "cell_type": "markdown",
   "id": "06779734",
   "metadata": {},
   "source": [
    "The best model for the SVC for me is **`SVC(C=0.3654522572035017)`** and the best accuracy is **`0.8696296296296296`**."
   ]
  },
  {
   "cell_type": "markdown",
   "id": "03c0b799",
   "metadata": {},
   "source": [
    "In comparison the SVC(C=0.3654522572035017) with a score of 0.8696296296296296 performs better than the KNeighborsClassifier(n_neighbors = 5) with a score of accuracy of 0.8267. "
   ]
  }
 ],
 "metadata": {
  "kernelspec": {
   "display_name": "Python 3 (ipykernel)",
   "language": "python",
   "name": "python3"
  },
  "language_info": {
   "codemirror_mode": {
    "name": "ipython",
    "version": 3
   },
   "file_extension": ".py",
   "mimetype": "text/x-python",
   "name": "python",
   "nbconvert_exporter": "python",
   "pygments_lexer": "ipython3",
   "version": "3.9.12"
  }
 },
 "nbformat": 4,
 "nbformat_minor": 5
}
